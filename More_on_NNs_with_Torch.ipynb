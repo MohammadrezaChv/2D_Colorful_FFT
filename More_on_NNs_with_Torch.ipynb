{
  "cells": [
    {
      "cell_type": "markdown",
      "metadata": {
        "id": "N3q3WK-FCcNJ"
      },
      "source": [
        "# More on Neural Networks with PyTorch\n",
        "\n",
        "**CE477: Machine Learning**\n",
        "\n",
        "__Instructor:__ Dr. Ali Sharifi-Zarchi\n",
        "\n",
        "__Authors:__ Ramtin Moslemi\n",
        "\n",
        "[![Open In Colab](https://colab.research.google.com/assets/colab-badge.svg)](https://colab.research.google.com/github/SharifiZarchi/Introduction_to_Machine_Learning/blob/main/Jupyter_Notebooks/Chapter_03_Neural_Networks/More_on_NNs_with_Torch.ipynb)\n",
        "[![Open In kaggle](https://kaggle.com/static/images/open-in-kaggle.svg)](https://kaggle.com/kernels/welcome?src=https://raw.githubusercontent.com/SharifiZarchi/Introduction_to_Machine_Learning/main/Jupyter_Notebooks/Chapter_03_Neural_Networks/More_on_NNs_with_Torch.ipynb)\n",
        "\n",
        "\n",
        "\n",
        "---\n",
        "\n",
        "## Notebook Objectives\n",
        "\n",
        "In this notebook we are going to explore some of the more advanced features of PyTorch.\n"
      ]
    },
    {
      "cell_type": "markdown",
      "metadata": {
        "id": "fp-rOMnHi505"
      },
      "source": [
        "## Imports and Setup"
      ]
    },
    {
      "cell_type": "markdown",
      "metadata": {
        "id": "7zbVxFHgi7we"
      },
      "source": [
        "In this notebook we are going to work with the [MedMNIST](https://medmnist.com/) dataset. For simplicity, we are going to install medmnist so that it would be easier to work with it."
      ]
    },
    {
      "cell_type": "code",
      "execution_count": null,
      "metadata": {
        "id": "EM0AZZ_pMDtA",
        "outputId": "8682439c-e1b6-47e0-f20a-f06350afead6",
        "colab": {
          "base_uri": "https://localhost:8080/"
        }
      },
      "outputs": [
        {
          "output_type": "stream",
          "name": "stdout",
          "text": [
            "Collecting medmnist\n",
            "  Downloading medmnist-3.0.2-py3-none-any.whl.metadata (14 kB)\n",
            "Requirement already satisfied: numpy in /usr/local/lib/python3.11/dist-packages (from medmnist) (2.0.2)\n",
            "Requirement already satisfied: pandas in /usr/local/lib/python3.11/dist-packages (from medmnist) (2.2.2)\n",
            "Requirement already satisfied: scikit-learn in /usr/local/lib/python3.11/dist-packages (from medmnist) (1.6.1)\n",
            "Requirement already satisfied: scikit-image in /usr/local/lib/python3.11/dist-packages (from medmnist) (0.25.2)\n",
            "Requirement already satisfied: tqdm in /usr/local/lib/python3.11/dist-packages (from medmnist) (4.67.1)\n",
            "Requirement already satisfied: Pillow in /usr/local/lib/python3.11/dist-packages (from medmnist) (11.2.1)\n",
            "Collecting fire (from medmnist)\n",
            "  Downloading fire-0.7.0.tar.gz (87 kB)\n",
            "\u001b[?25l     \u001b[90m━━━━━━━━━━━━━━━━━━━━━━━━━━━━━━━━━━━━━━━━\u001b[0m \u001b[32m0.0/87.2 kB\u001b[0m \u001b[31m?\u001b[0m eta \u001b[36m-:--:--\u001b[0m\r\u001b[2K     \u001b[90m━━━━━━━━━━━━━━━━━━━━━━━━━━━━━━━━━━━━━━━━\u001b[0m \u001b[32m87.2/87.2 kB\u001b[0m \u001b[31m4.2 MB/s\u001b[0m eta \u001b[36m0:00:00\u001b[0m\n",
            "\u001b[?25h  Preparing metadata (setup.py) ... \u001b[?25l\u001b[?25hdone\n",
            "Requirement already satisfied: torch in /usr/local/lib/python3.11/dist-packages (from medmnist) (2.6.0+cu124)\n",
            "Requirement already satisfied: torchvision in /usr/local/lib/python3.11/dist-packages (from medmnist) (0.21.0+cu124)\n",
            "Requirement already satisfied: termcolor in /usr/local/lib/python3.11/dist-packages (from fire->medmnist) (3.1.0)\n",
            "Requirement already satisfied: python-dateutil>=2.8.2 in /usr/local/lib/python3.11/dist-packages (from pandas->medmnist) (2.9.0.post0)\n",
            "Requirement already satisfied: pytz>=2020.1 in /usr/local/lib/python3.11/dist-packages (from pandas->medmnist) (2025.2)\n",
            "Requirement already satisfied: tzdata>=2022.7 in /usr/local/lib/python3.11/dist-packages (from pandas->medmnist) (2025.2)\n",
            "Requirement already satisfied: scipy>=1.11.4 in /usr/local/lib/python3.11/dist-packages (from scikit-image->medmnist) (1.15.3)\n",
            "Requirement already satisfied: networkx>=3.0 in /usr/local/lib/python3.11/dist-packages (from scikit-image->medmnist) (3.5)\n",
            "Requirement already satisfied: imageio!=2.35.0,>=2.33 in /usr/local/lib/python3.11/dist-packages (from scikit-image->medmnist) (2.37.0)\n",
            "Requirement already satisfied: tifffile>=2022.8.12 in /usr/local/lib/python3.11/dist-packages (from scikit-image->medmnist) (2025.6.11)\n",
            "Requirement already satisfied: packaging>=21 in /usr/local/lib/python3.11/dist-packages (from scikit-image->medmnist) (25.0)\n",
            "Requirement already satisfied: lazy-loader>=0.4 in /usr/local/lib/python3.11/dist-packages (from scikit-image->medmnist) (0.4)\n",
            "Requirement already satisfied: joblib>=1.2.0 in /usr/local/lib/python3.11/dist-packages (from scikit-learn->medmnist) (1.5.1)\n",
            "Requirement already satisfied: threadpoolctl>=3.1.0 in /usr/local/lib/python3.11/dist-packages (from scikit-learn->medmnist) (3.6.0)\n",
            "Requirement already satisfied: filelock in /usr/local/lib/python3.11/dist-packages (from torch->medmnist) (3.18.0)\n",
            "Requirement already satisfied: typing-extensions>=4.10.0 in /usr/local/lib/python3.11/dist-packages (from torch->medmnist) (4.14.1)\n",
            "Requirement already satisfied: jinja2 in /usr/local/lib/python3.11/dist-packages (from torch->medmnist) (3.1.6)\n",
            "Requirement already satisfied: fsspec in /usr/local/lib/python3.11/dist-packages (from torch->medmnist) (2025.3.2)\n",
            "Collecting nvidia-cuda-nvrtc-cu12==12.4.127 (from torch->medmnist)\n",
            "  Downloading nvidia_cuda_nvrtc_cu12-12.4.127-py3-none-manylinux2014_x86_64.whl.metadata (1.5 kB)\n",
            "Collecting nvidia-cuda-runtime-cu12==12.4.127 (from torch->medmnist)\n",
            "  Downloading nvidia_cuda_runtime_cu12-12.4.127-py3-none-manylinux2014_x86_64.whl.metadata (1.5 kB)\n",
            "Collecting nvidia-cuda-cupti-cu12==12.4.127 (from torch->medmnist)\n",
            "  Downloading nvidia_cuda_cupti_cu12-12.4.127-py3-none-manylinux2014_x86_64.whl.metadata (1.6 kB)\n",
            "Collecting nvidia-cudnn-cu12==9.1.0.70 (from torch->medmnist)\n",
            "  Downloading nvidia_cudnn_cu12-9.1.0.70-py3-none-manylinux2014_x86_64.whl.metadata (1.6 kB)\n",
            "Collecting nvidia-cublas-cu12==12.4.5.8 (from torch->medmnist)\n",
            "  Downloading nvidia_cublas_cu12-12.4.5.8-py3-none-manylinux2014_x86_64.whl.metadata (1.5 kB)\n",
            "Collecting nvidia-cufft-cu12==11.2.1.3 (from torch->medmnist)\n",
            "  Downloading nvidia_cufft_cu12-11.2.1.3-py3-none-manylinux2014_x86_64.whl.metadata (1.5 kB)\n",
            "Collecting nvidia-curand-cu12==10.3.5.147 (from torch->medmnist)\n",
            "  Downloading nvidia_curand_cu12-10.3.5.147-py3-none-manylinux2014_x86_64.whl.metadata (1.5 kB)\n",
            "Collecting nvidia-cusolver-cu12==11.6.1.9 (from torch->medmnist)\n",
            "  Downloading nvidia_cusolver_cu12-11.6.1.9-py3-none-manylinux2014_x86_64.whl.metadata (1.6 kB)\n",
            "Collecting nvidia-cusparse-cu12==12.3.1.170 (from torch->medmnist)\n",
            "  Downloading nvidia_cusparse_cu12-12.3.1.170-py3-none-manylinux2014_x86_64.whl.metadata (1.6 kB)\n",
            "Requirement already satisfied: nvidia-cusparselt-cu12==0.6.2 in /usr/local/lib/python3.11/dist-packages (from torch->medmnist) (0.6.2)\n",
            "Requirement already satisfied: nvidia-nccl-cu12==2.21.5 in /usr/local/lib/python3.11/dist-packages (from torch->medmnist) (2.21.5)\n",
            "Requirement already satisfied: nvidia-nvtx-cu12==12.4.127 in /usr/local/lib/python3.11/dist-packages (from torch->medmnist) (12.4.127)\n",
            "Collecting nvidia-nvjitlink-cu12==12.4.127 (from torch->medmnist)\n",
            "  Downloading nvidia_nvjitlink_cu12-12.4.127-py3-none-manylinux2014_x86_64.whl.metadata (1.5 kB)\n",
            "Requirement already satisfied: triton==3.2.0 in /usr/local/lib/python3.11/dist-packages (from torch->medmnist) (3.2.0)\n",
            "Requirement already satisfied: sympy==1.13.1 in /usr/local/lib/python3.11/dist-packages (from torch->medmnist) (1.13.1)\n",
            "Requirement already satisfied: mpmath<1.4,>=1.1.0 in /usr/local/lib/python3.11/dist-packages (from sympy==1.13.1->torch->medmnist) (1.3.0)\n",
            "Requirement already satisfied: six>=1.5 in /usr/local/lib/python3.11/dist-packages (from python-dateutil>=2.8.2->pandas->medmnist) (1.17.0)\n",
            "Requirement already satisfied: MarkupSafe>=2.0 in /usr/local/lib/python3.11/dist-packages (from jinja2->torch->medmnist) (3.0.2)\n",
            "Downloading medmnist-3.0.2-py3-none-any.whl (25 kB)\n",
            "Downloading nvidia_cublas_cu12-12.4.5.8-py3-none-manylinux2014_x86_64.whl (363.4 MB)\n",
            "\u001b[2K   \u001b[91m━━━━━━━━━━━━━━━━━━\u001b[0m\u001b[90m╺\u001b[0m\u001b[90m━━━━━━━━━━━━━━━━━━━━━\u001b[0m \u001b[32m166.7/363.4 MB\u001b[0m \u001b[31m4.5 MB/s\u001b[0m eta \u001b[36m0:00:45\u001b[0m"
          ]
        }
      ],
      "source": [
        "! pip install medmnist"
      ]
    },
    {
      "cell_type": "markdown",
      "metadata": {
        "id": "OscA3tKGjW7b"
      },
      "source": [
        "Once again we must import our libraries. Notice that we are going to use `ChestMNIST` which is a dataset of *Chest X-Rays*."
      ]
    },
    {
      "cell_type": "code",
      "execution_count": null,
      "metadata": {
        "id": "-fRNfLoRQ2UW"
      },
      "outputs": [],
      "source": [
        "import torch\n",
        "import torch.nn as nn\n",
        "import torch.optim as optim\n",
        "from torchvision import transforms, utils\n",
        "from torch.utils.data import Dataset, DataLoader, random_split\n",
        "\n",
        "import numpy as np\n",
        "from tqdm import trange\n",
        "from medmnist import ChestMNIST\n",
        "from matplotlib import pyplot as plt\n",
        "from sklearn.metrics import hamming_loss, accuracy_score, precision_recall_fscore_support, average_precision_score"
      ]
    },
    {
      "cell_type": "code",
      "execution_count": null,
      "metadata": {
        "cellView": "form",
        "id": "2-SxYbOjsfwg"
      },
      "outputs": [],
      "source": [
        "# @title plotting helper function\n",
        "def plot_results(train_losses, val_losses):\n",
        "    plt.figure(figsize=(10, 5))\n",
        "    plt.plot(train_losses, label='Train Loss')\n",
        "    plt.plot(val_losses, label='Val Loss')\n",
        "    plt.xlabel('Epoch')\n",
        "    plt.ylabel('Loss')\n",
        "    plt.legend()\n",
        "    plt.show()"
      ]
    },
    {
      "cell_type": "markdown",
      "metadata": {
        "id": "0eRYCERtkv0x"
      },
      "source": [
        "To accelerate operations in the neural network, we move it to the GPU or MPS (for Apple silicon) if available."
      ]
    },
    {
      "cell_type": "code",
      "execution_count": null,
      "metadata": {
        "colab": {
          "base_uri": "https://localhost:8080/"
        },
        "id": "RItckQLYktwY",
        "outputId": "cc0c21d9-cbcd-4318-dbf8-1d603e0aaf0a"
      },
      "outputs": [
        {
          "output_type": "stream",
          "name": "stdout",
          "text": [
            "Using cuda device\n"
          ]
        }
      ],
      "source": [
        "# Get cpu, gpu or mps device for training.\n",
        "device = (\n",
        "    \"cuda\"\n",
        "    if torch.cuda.is_available()\n",
        "    else \"mps\"\n",
        "    if torch.backends.mps.is_available()\n",
        "    else \"cpu\"\n",
        ")\n",
        "print(f\"Using {device} device\")"
      ]
    },
    {
      "cell_type": "markdown",
      "metadata": {
        "id": "yHoUcJA5jxaH"
      },
      "source": [
        "# Loading the Data"
      ]
    },
    {
      "cell_type": "markdown",
      "metadata": {
        "id": "tu5TKCGEjwVp"
      },
      "source": [
        "To work with the data we must first download the dataset using `ChestMNIST`. We will normalize our data as well to get better results during training."
      ]
    },
    {
      "cell_type": "code",
      "execution_count": null,
      "metadata": {
        "colab": {
          "base_uri": "https://localhost:8080/"
        },
        "id": "BBPItL0-O08w",
        "outputId": "92078894-16d5-496a-c494-61c8231f8a8e"
      },
      "outputs": [
        {
          "output_type": "stream",
          "name": "stdout",
          "text": [
            "Downloading https://zenodo.org/records/10519652/files/chestmnist.npz?download=1 to /root/.medmnist/chestmnist.npz\n"
          ]
        },
        {
          "output_type": "stream",
          "name": "stderr",
          "text": [
            "100%|██████████| 82.8M/82.8M [00:07<00:00, 10.5MB/s]\n"
          ]
        },
        {
          "output_type": "stream",
          "name": "stdout",
          "text": [
            "Using downloaded and verified file: /root/.medmnist/chestmnist.npz\n",
            "Train dataset size: 78468\n",
            "Test dataset size: 22433\n"
          ]
        }
      ],
      "source": [
        "transform = transforms.Compose([transforms.ToTensor(),\n",
        "                                transforms.Normalize((0.5,), (0.5,))])\n",
        "\n",
        "train_dataset = ChestMNIST(split='train', transform=transform, download=True)\n",
        "test_dataset = ChestMNIST(split='test', transform=transform, download=True)\n",
        "\n",
        "print(f'Train dataset size: {len(train_dataset)}')\n",
        "print(f'Test dataset size: {len(test_dataset)}')"
      ]
    },
    {
      "cell_type": "markdown",
      "metadata": {
        "id": "y4yd5ZrIkHtj"
      },
      "source": [
        "Next we must get the dataloaders. Perhaps you recall from our [previous notebook](https://colab.research.google.com/github/SharifiZarchi/Introduction_to_Machine_Learning/blob/main/Jupyter_Notebooks/Chapter_03_Neural_Networks/NNs_with_torch.ipynb), we didn't use validation sets. However in this notebook we are going to learn how we can use validation sets in PyTorch using `random_split` from `torch.utils.data`. In order to keep the rest of the notebooks shorter and to the point, we will not use validation sets in later notebooks."
      ]
    },
    {
      "cell_type": "code",
      "execution_count": null,
      "metadata": {
        "colab": {
          "base_uri": "https://localhost:8080/"
        },
        "id": "gzSI2EUEk9W0",
        "outputId": "3c1d56b9-c72e-4704-db77-14e7c57785e8"
      },
      "outputs": [
        {
          "output_type": "stream",
          "name": "stdout",
          "text": [
            "Train dataset size: 62774\n",
            "Validation dataset size: 15694\n",
            "Test dataset size: 22433\n"
          ]
        }
      ],
      "source": [
        "# Split the dataset into training and validation sets\n",
        "train_size = int(0.8 * len(train_dataset))\n",
        "val_size = len(train_dataset) - train_size\n",
        "train_dataset, val_dataset = random_split(train_dataset, [train_size, val_size])\n",
        "\n",
        "print(f'Train dataset size: {len(train_dataset)}')\n",
        "print(f'Validation dataset size: {len(val_dataset)}')\n",
        "print(f'Test dataset size: {len(test_dataset)}')"
      ]
    },
    {
      "cell_type": "markdown",
      "metadata": {
        "id": "0xR3EogKnwUe"
      },
      "source": [
        "While we could now proceed with our datasets, since the [MedMNIST](https://medmnist.com/) dataset provides validation sets itself, we are going to use its data."
      ]
    },
    {
      "cell_type": "code",
      "execution_count": null,
      "metadata": {
        "colab": {
          "base_uri": "https://localhost:8080/"
        },
        "id": "WhxNFkdFoBSh",
        "outputId": "adf6e3e9-4afb-44ea-c0d1-03d578c91387"
      },
      "outputs": [
        {
          "output_type": "stream",
          "name": "stdout",
          "text": [
            "Using downloaded and verified file: /root/.medmnist/chestmnist.npz\n",
            "Training dataset size: 78468\n",
            "Validation dataset size: 11219\n",
            "Testing dataset size: 22433\n"
          ]
        }
      ],
      "source": [
        "train_dataset = ChestMNIST(split='train', transform=transform, download=False)\n",
        "val_dataset = ChestMNIST(split='val', transform=transform, download=True)\n",
        "test_dataset = ChestMNIST(split='test', transform=transform, download=False)\n",
        "\n",
        "print(f'Training dataset size: {len(train_dataset)}')\n",
        "print(f'Validation dataset size: {len(val_dataset)}')\n",
        "print(f'Testing dataset size: {len(test_dataset)}')"
      ]
    },
    {
      "cell_type": "markdown",
      "metadata": {
        "id": "J4xes8IxnJIX"
      },
      "source": [
        "Same as before, we can make the dataloaders. Notice that we don't shuffle our validation and test sets but we do shuffle the training set."
      ]
    },
    {
      "cell_type": "code",
      "execution_count": null,
      "metadata": {
        "id": "CimDJfYIm_Zv"
      },
      "outputs": [],
      "source": [
        "# Create the dataloaders\n",
        "train_loader = DataLoader(dataset=train_dataset, batch_size=64, shuffle=True)\n",
        "val_loader = DataLoader(dataset=val_dataset, batch_size=64, shuffle=False)\n",
        "test_loader = DataLoader(dataset=test_dataset, batch_size=64, shuffle=False)"
      ]
    },
    {
      "cell_type": "markdown",
      "metadata": {
        "id": "gGHRlxnympD1"
      },
      "source": [
        "Now lets see the dimensions of the data."
      ]
    },
    {
      "cell_type": "code",
      "execution_count": null,
      "metadata": {
        "colab": {
          "base_uri": "https://localhost:8080/"
        },
        "id": "x-s-efVPmr11",
        "outputId": "18084c7d-89fe-4f9a-d19a-334cd3b1c570"
      },
      "outputs": [
        {
          "output_type": "stream",
          "name": "stdout",
          "text": [
            "Shape of X [N, C, H, W]: torch.Size([64, 1, 28, 28])\n",
            "Shape of y: torch.Size([64, 14]) torch.int64\n"
          ]
        }
      ],
      "source": [
        "# Iterate over the data\n",
        "for x, y in test_loader:\n",
        "    print(f\"Shape of X [N, C, H, W]: {x.shape}\")\n",
        "    print(f\"Shape of y: {y.shape} {y.dtype}\")\n",
        "    break"
      ]
    },
    {
      "cell_type": "markdown",
      "source": [
        "Let's look at some of the data to see what we are dealing with!"
      ],
      "metadata": {
        "id": "AmGvl7Q_yrhR"
      }
    },
    {
      "cell_type": "code",
      "source": [
        "# Show First 10 Images\n",
        "\n",
        "plt.figure(figsize=(10, 5))\n",
        "for i in range(10):\n",
        "    plt.subplot(2, 5, i + 1)\n",
        "    plt.imshow(train_dataset[i][0].squeeze())\n",
        "    plt.title(f\"Label: {np.argmax(train_dataset[i][1])}\")\n",
        "    plt.axis('off')\n",
        "plt.show()"
      ],
      "metadata": {
        "id": "hedxALsvyrOa",
        "outputId": "8848f702-bb3a-46f9-da6a-f47c3593818e",
        "colab": {
          "base_uri": "https://localhost:8080/",
          "height": 402
        }
      },
      "execution_count": null,
      "outputs": [
        {
          "output_type": "display_data",
          "data": {
            "text/plain": [
              "<Figure size 1000x500 with 10 Axes>"
            ],
            "image/png": "[encoded data removed]"
          },
          "metadata": {}
        }
      ]
    },
    {
      "cell_type": "markdown",
      "metadata": {
        "id": "R606nUhtkOZB"
      },
      "source": [
        "# Neural Network"
      ]
    },
    {
      "cell_type": "markdown",
      "metadata": {
        "id": "5GgfWlhskQjq"
      },
      "source": [
        "This time we are going to use batch normalization layers and leaky relu activation functions."
      ]
    },
    {
      "cell_type": "code",
      "execution_count": null,
      "metadata": {
        "id": "ayJR3yClFdto"
      },
      "outputs": [],
      "source": [
        "class SimpleNN(nn.Module):\n",
        "    def __init__(self, input_size, num_classes):\n",
        "        super(SimpleNN, self).__init__()\n",
        "        self.network = nn.Sequential(\n",
        "            nn.Flatten(),\n",
        "            nn.Linear(input_size, 128),\n",
        "            nn.LeakyReLU(0.2),\n",
        "            nn.BatchNorm1d(128),\n",
        "            nn.Linear(128, 128),\n",
        "            nn.LeakyReLU(0.2),\n",
        "            nn.BatchNorm1d(128),\n",
        "            nn.Linear(128, 64),\n",
        "            nn.LeakyReLU(0.2),\n",
        "            nn.BatchNorm1d(64),\n",
        "            nn.Linear(64, 64),\n",
        "            nn.LeakyReLU(0.2),\n",
        "            nn.BatchNorm1d(64),\n",
        "            nn.Linear(64, num_classes)\n",
        "        )\n",
        "\n",
        "    def forward(self, x):\n",
        "        return self.network(x)\n"
      ]
    },
    {
      "cell_type": "markdown",
      "metadata": {
        "id": "uVjWx6mHooTA"
      },
      "source": [
        "# Training"
      ]
    },
    {
      "cell_type": "markdown",
      "metadata": {
        "id": "NTzG0MnQopyr"
      },
      "source": [
        "To implement our training code more clearly, we are going to implement the following functions:\n",
        "\n",
        "\n",
        "*   `train_step`: By running this function we train the model for a single epoch.\n",
        "*   `test_step`: By running this function we will evaluate the models performance on the given dataloader without training the model.\n",
        "*   `train_model`: This function will use the aforementioned functions to fully train the model and evaluate the results.\n",
        "\n",
        "\n",
        "\n",
        "\n"
      ]
    },
    {
      "cell_type": "code",
      "execution_count": null,
      "metadata": {
        "id": "afi5A_x2pe5C"
      },
      "outputs": [],
      "source": [
        "def train_step(model, criterion, optimizer, dataloader=train_loader, device=device):\n",
        "    running_loss = 0\n",
        "    # Move the model to training mode\n",
        "    model.train()\n",
        "    # Iterate over the dataloader\n",
        "    for x, y in dataloader:\n",
        "        # Move the datapoints to same device as the model\n",
        "        x, y = x.to(device), y.to(device)\n",
        "        # Clear the gradients\n",
        "        optimizer.zero_grad()\n",
        "        # Predict the output and perform the forward pass\n",
        "        pred = model(x)\n",
        "        # Compute prediction error\n",
        "        loss = criterion(pred, y.float())\n",
        "        # Backpropagation\n",
        "        loss.backward()\n",
        "        # Update the model weights\n",
        "        optimizer.step()\n",
        "        # Update the running loss\n",
        "        running_loss += loss.item()\n",
        "    # Calculate and return the average loss\n",
        "    return running_loss / len(dataloader)\n",
        "\n",
        "\n",
        "def test_step(model, criterion, dataloader=val_loader, device=device):\n",
        "    running_loss = 0\n",
        "    # Move the model to training mode\n",
        "    model.eval()\n",
        "    # Disable gradient calculation\n",
        "    with torch.no_grad():\n",
        "      # Iterate over the dataloader\n",
        "      for x, y in dataloader:\n",
        "          # Move the datapoints to same device as the model\n",
        "          x, y = x.to(device), y.to(device)\n",
        "          # Predict the output and perform the forward pass\n",
        "          pred = model(x)\n",
        "          # Compute prediction error\n",
        "          loss = criterion(pred, y.float())\n",
        "          # Update the running loss\n",
        "          running_loss += loss.item()\n",
        "    # Calculate and return the average loss\n",
        "    return running_loss / len(dataloader)"
      ]
    },
    {
      "cell_type": "markdown",
      "metadata": {
        "id": "9pb0W8hWrMOy"
      },
      "source": [
        "Now we have to implement the `train_model` function."
      ]
    },
    {
      "cell_type": "code",
      "execution_count": null,
      "metadata": {
        "id": "OO97wsHmrRnZ"
      },
      "outputs": [],
      "source": [
        "def train_model(model, n_epochs, optimizer, criterion, train_loader, val_loader, device=device):\n",
        "    train_losses, val_losses = [], []\n",
        "    for epoch in (pbar := trange(n_epochs)):\n",
        "        # Train the model\n",
        "        train_loss = train_step(model, criterion, optimizer, train_loader, device)\n",
        "        # Evaluate the model\n",
        "        val_loss = test_step(model, criterion, val_loader, device)\n",
        "        # Display the results\n",
        "        pbar.set_description(f'Train Loss = {train_loss:.3f} | Val Loss = {val_loss:.3f} ')\n",
        "        # Store the results\n",
        "        train_losses.append(train_loss), val_losses.append(val_loss)\n",
        "    # Plot the results\n",
        "    plot_results(train_losses, val_losses)\n",
        "    return train_losses, val_losses"
      ]
    },
    {
      "cell_type": "markdown",
      "metadata": {
        "id": "YixnEXxjsy1F"
      },
      "source": [
        "All that remains for us to do is to define the loss metric and the optimizer to train the model."
      ]
    },
    {
      "cell_type": "code",
      "execution_count": null,
      "metadata": {
        "id": "S3xmAQkHsw2d"
      },
      "outputs": [],
      "source": [
        "model = SimpleNN(input_size=28*28, num_classes=14).to(device)\n",
        "criterion = nn.BCEWithLogitsLoss()\n",
        "optimizer = optim.Adam(model.parameters(), lr=0.001)"
      ]
    },
    {
      "cell_type": "code",
      "execution_count": null,
      "metadata": {
        "colab": {
          "base_uri": "https://localhost:8080/",
          "height": 482
        },
        "id": "ZGfzpDnXtKZ9",
        "outputId": "5f69a8c0-0303-4445-bb6d-1602b5f1443f"
      },
      "outputs": [
        {
          "name": "stderr",
          "output_type": "stream",
          "text": [
            "Train Loss = 0.16 | Val Loss = 0.17 : 100%|██████████| 20/20 [06:14<00:00, 18.70s/it]\n"
          ]
        },
        {
          "data": {
            "image/png": "[encoded data removed]",
            "text/plain": [
              "<Figure size 1000x500 with 1 Axes>"
            ]
          },
          "metadata": {},
          "output_type": "display_data"
        }
      ],
      "source": [
        "results = train_model(model, 20, optimizer, criterion, train_loader, val_loader)"
      ]
    },
    {
      "cell_type": "markdown",
      "metadata": {
        "id": "EG4uumBCxy-d"
      },
      "source": [
        "# Evaluation"
      ]
    },
    {
      "cell_type": "code",
      "execution_count": null,
      "metadata": {
        "id": "XIGg0VB6x0Qm"
      },
      "outputs": [],
      "source": [
        "def evaluate_model(model, data_loader, device=device):\n",
        "    model.eval()\n",
        "    all_labels = []\n",
        "    all_preds = []\n",
        "\n",
        "    with torch.no_grad():\n",
        "        for images, labels in data_loader:\n",
        "            images, labels = images.to(device), labels.to(device)\n",
        "            outputs = model(images)\n",
        "            preds = torch.sigmoid(outputs).cpu().numpy()\n",
        "            all_labels.extend(labels.cpu().numpy())\n",
        "            all_preds.extend(preds)\n",
        "\n",
        "    all_labels = np.array(all_labels)\n",
        "    all_preds = np.array(all_preds)\n",
        "\n",
        "    hamming = hamming_loss(all_labels, all_preds > 0.5)\n",
        "    subset_acc = accuracy_score(all_labels, all_preds > 0.5)\n",
        "    precision, recall, f1, _ = precision_recall_fscore_support(all_labels, all_preds > 0.5, average='macro')\n",
        "    avg_precision = average_precision_score(all_labels, all_preds, average='macro')\n",
        "\n",
        "    print(f'Hamming Loss: {hamming}')\n",
        "    print(f'Subset Accuracy: {subset_acc}')\n",
        "    print(f'Precision: {precision}')\n",
        "    print(f'Recall: {recall}')\n",
        "    print(f'F1-Score: {f1}')\n",
        "    print(f'Average Precision: {avg_precision}')\n",
        "\n",
        "    return {\n",
        "        'Hamming Loss': hamming,\n",
        "        'Subset Accuracy': subset_acc,\n",
        "        'Precision': precision,\n",
        "        'Recall': recall,\n",
        "        'F1-Score': f1,\n",
        "        'Average Precision': avg_precision\n",
        "    }"
      ]
    },
    {
      "cell_type": "code",
      "execution_count": null,
      "metadata": {
        "colab": {
          "base_uri": "https://localhost:8080/"
        },
        "id": "hw7difFhx5rD",
        "outputId": "02ee4c52-4a8b-4ba7-afb9-5f14252fb45c"
      },
      "outputs": [
        {
          "name": "stdout",
          "output_type": "stream",
          "text": [
            "Hamming Loss: 0.05276028300144558\n",
            "Subset Accuracy: 0.5292649222128115\n",
            "Precision: 0.18296276579233142\n",
            "Recall: 0.010666848834182186\n",
            "F1-Score: 0.018267924618030115\n",
            "Average Precision: 0.12447987886638169\n"
          ]
        },
        {
          "name": "stderr",
          "output_type": "stream",
          "text": [
            "/usr/local/lib/python3.10/dist-packages/sklearn/metrics/_classification.py:1531: UndefinedMetricWarning: Precision is ill-defined and being set to 0.0 in labels with no predicted samples. Use `zero_division` parameter to control this behavior.\n",
            "  _warn_prf(average, modifier, f\"{metric.capitalize()} is\", len(result))\n"
          ]
        }
      ],
      "source": [
        "metrics = evaluate_model(model, test_loader)"
      ]
    },
    {
      "cell_type": "markdown",
      "metadata": {
        "id": "0l76fd_GtSzP"
      },
      "source": [
        "# Saving and Loading Models"
      ]
    },
    {
      "cell_type": "markdown",
      "metadata": {
        "id": "DN-op_67wNpO"
      },
      "source": [
        "Now we turn our attention to saving and loading models. First we will save the model we just trained."
      ]
    },
    {
      "cell_type": "code",
      "execution_count": null,
      "metadata": {
        "id": "36itXBG8tUzt"
      },
      "outputs": [],
      "source": [
        "# Save the model\n",
        "torch.save(model.state_dict(), 'chestmnist_model.pth')"
      ]
    },
    {
      "cell_type": "markdown",
      "metadata": {
        "id": "Yg3ouWyuwU_g"
      },
      "source": [
        "We can then load the model once again."
      ]
    },
    {
      "cell_type": "code",
      "execution_count": null,
      "metadata": {
        "colab": {
          "base_uri": "https://localhost:8080/"
        },
        "id": "BCVhTFA_wZEk",
        "outputId": "19c078db-14e2-402e-8c2c-8dd6e06162ea"
      },
      "outputs": [
        {
          "name": "stderr",
          "output_type": "stream",
          "text": [
            "<ipython-input-20-974580418a2e>:3: FutureWarning: You are using `torch.load` with `weights_only=False` (the current default value), which uses the default pickle module implicitly. It is possible to construct malicious pickle data which will execute arbitrary code during unpickling (See https://github.com/pytorch/pytorch/blob/main/SECURITY.md#untrusted-models for more details). In a future release, the default value for `weights_only` will be flipped to `True`. This limits the functions that could be executed during unpickling. Arbitrary objects will no longer be allowed to be loaded via this mode unless they are explicitly allowlisted by the user via `torch.serialization.add_safe_globals`. We recommend you start setting `weights_only=True` for any use case where you don't have full control of the loaded file. Please open an issue on GitHub for any issues related to this experimental feature.\n",
            "  net.load_state_dict(torch.load('chestmnist_model.pth'))\n"
          ]
        },
        {
          "data": {
            "text/plain": [
              "<All keys matched successfully>"
            ]
          },
          "execution_count": 20,
          "metadata": {},
          "output_type": "execute_result"
        }
      ],
      "source": [
        "# Load the model\n",
        "net = SimpleNN(input_size=28*28, num_classes=14).to(device)\n",
        "net.load_state_dict(torch.load('chestmnist_model.pth'))"
      ]
    },
    {
      "cell_type": "markdown",
      "metadata": {
        "id": "mkreDIT0yLtc"
      },
      "source": [
        "If we evalute the loaded model once more, you will see that they have similar results."
      ]
    },
    {
      "cell_type": "code",
      "execution_count": null,
      "metadata": {
        "colab": {
          "base_uri": "https://localhost:8080/"
        },
        "id": "h5CosJsxyLPB",
        "outputId": "9673eb5c-cfc8-4756-99ae-004df940d6c1"
      },
      "outputs": [
        {
          "name": "stdout",
          "output_type": "stream",
          "text": [
            "Hamming Loss: 0.05276028300144558\n",
            "Subset Accuracy: 0.5292649222128115\n",
            "Precision: 0.18296276579233142\n",
            "Recall: 0.010666848834182186\n",
            "F1-Score: 0.018267924618030115\n",
            "Average Precision: 0.12447987886638169\n"
          ]
        },
        {
          "name": "stderr",
          "output_type": "stream",
          "text": [
            "/usr/local/lib/python3.10/dist-packages/sklearn/metrics/_classification.py:1531: UndefinedMetricWarning: Precision is ill-defined and being set to 0.0 in labels with no predicted samples. Use `zero_division` parameter to control this behavior.\n",
            "  _warn_prf(average, modifier, f\"{metric.capitalize()} is\", len(result))\n"
          ]
        }
      ],
      "source": [
        "metrics = evaluate_model(net, test_loader, device)"
      ]
    }
  ],
  "metadata": {
    "accelerator": "GPU",
    "colab": {
      "gpuType": "T4",
      "provenance": []
    },
    "kernelspec": {
      "display_name": "Python 3 (ipykernel)",
      "language": "python",
      "name": "python3"
    },
    "language_info": {
      "codemirror_mode": {
        "name": "ipython",
        "version": 3
      },
      "file_extension": ".py",
      "mimetype": "text/x-python",
      "name": "python",
      "nbconvert_exporter": "python",
      "pygments_lexer": "ipython3",
      "version": "3.12.6"
    }
  },
  "nbformat": 4,
  "nbformat_minor": 0
}